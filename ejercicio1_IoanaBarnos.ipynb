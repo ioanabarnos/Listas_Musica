{
 "cells": [
  {
   "cell_type": "markdown",
   "metadata": {},
   "source": [
    "### Carga de librerías\n",
    "Cargamos las librerías que vamos a utilizar: NumPy, Pandas y Os."
   ]
  },
  {
   "cell_type": "code",
   "execution_count": 130,
   "metadata": {},
   "outputs": [],
   "source": [
    "import numpy as np\n",
    "import pandas as pd\n",
    "import os"
   ]
  },
  {
   "cell_type": "markdown",
   "metadata": {},
   "source": [
    "### Carga del dataset\n",
    "\n",
    "Leemos el dataset que nos han facilitado:\n",
    "Pandas proporciona un método para importar este tipo de ficheros y directamente crear un dataframe."
   ]
  },
  {
   "cell_type": "code",
   "execution_count": 131,
   "metadata": {},
   "outputs": [
    {
     "data": {
      "text/html": [
       "<div>\n",
       "<style scoped>\n",
       "    .dataframe tbody tr th:only-of-type {\n",
       "        vertical-align: middle;\n",
       "    }\n",
       "\n",
       "    .dataframe tbody tr th {\n",
       "        vertical-align: top;\n",
       "    }\n",
       "\n",
       "    .dataframe thead th {\n",
       "        text-align: right;\n",
       "    }\n",
       "</style>\n",
       "<table border=\"1\" class=\"dataframe\">\n",
       "  <thead>\n",
       "    <tr style=\"text-align: right;\">\n",
       "      <th></th>\n",
       "      <th>date</th>\n",
       "      <th>rank</th>\n",
       "      <th>song</th>\n",
       "      <th>artist</th>\n",
       "      <th>last-week</th>\n",
       "      <th>peak-rank</th>\n",
       "      <th>weeks-on-board</th>\n",
       "    </tr>\n",
       "  </thead>\n",
       "  <tbody>\n",
       "    <tr>\n",
       "      <th>0</th>\n",
       "      <td>2021-11-06</td>\n",
       "      <td>1</td>\n",
       "      <td>Easy On Me</td>\n",
       "      <td>Adele</td>\n",
       "      <td>1.0</td>\n",
       "      <td>1</td>\n",
       "      <td>3</td>\n",
       "    </tr>\n",
       "    <tr>\n",
       "      <th>1</th>\n",
       "      <td>2021-11-06</td>\n",
       "      <td>2</td>\n",
       "      <td>Stay</td>\n",
       "      <td>The Kid LAROI &amp; Justin Bieber</td>\n",
       "      <td>2.0</td>\n",
       "      <td>1</td>\n",
       "      <td>16</td>\n",
       "    </tr>\n",
       "    <tr>\n",
       "      <th>2</th>\n",
       "      <td>2021-11-06</td>\n",
       "      <td>3</td>\n",
       "      <td>Industry Baby</td>\n",
       "      <td>Lil Nas X &amp; Jack Harlow</td>\n",
       "      <td>3.0</td>\n",
       "      <td>1</td>\n",
       "      <td>14</td>\n",
       "    </tr>\n",
       "    <tr>\n",
       "      <th>3</th>\n",
       "      <td>2021-11-06</td>\n",
       "      <td>4</td>\n",
       "      <td>Fancy Like</td>\n",
       "      <td>Walker Hayes</td>\n",
       "      <td>4.0</td>\n",
       "      <td>3</td>\n",
       "      <td>19</td>\n",
       "    </tr>\n",
       "    <tr>\n",
       "      <th>4</th>\n",
       "      <td>2021-11-06</td>\n",
       "      <td>5</td>\n",
       "      <td>Bad Habits</td>\n",
       "      <td>Ed Sheeran</td>\n",
       "      <td>5.0</td>\n",
       "      <td>2</td>\n",
       "      <td>18</td>\n",
       "    </tr>\n",
       "  </tbody>\n",
       "</table>\n",
       "</div>"
      ],
      "text/plain": [
       "         date  rank           song                         artist  last-week  \\\n",
       "0  2021-11-06     1     Easy On Me                          Adele        1.0   \n",
       "1  2021-11-06     2           Stay  The Kid LAROI & Justin Bieber        2.0   \n",
       "2  2021-11-06     3  Industry Baby        Lil Nas X & Jack Harlow        3.0   \n",
       "3  2021-11-06     4     Fancy Like                   Walker Hayes        4.0   \n",
       "4  2021-11-06     5     Bad Habits                     Ed Sheeran        5.0   \n",
       "\n",
       "   peak-rank  weeks-on-board  \n",
       "0          1               3  \n",
       "1          1              16  \n",
       "2          1              14  \n",
       "3          3              19  \n",
       "4          2              18  "
      ]
     },
     "execution_count": 131,
     "metadata": {},
     "output_type": "execute_result"
    }
   ],
   "source": [
    "# con 'read_csv' leemos el archivo en formato csv y creamos el df\n",
    "df = pd.read_csv('listas_musica.csv')\n",
    "\n",
    "# pedimos que muestre las cinco primeras filas\n",
    "df.head()"
   ]
  },
  {
   "cell_type": "markdown",
   "metadata": {},
   "source": [
    "### Limpieza de datos"
   ]
  },
  {
   "cell_type": "markdown",
   "metadata": {},
   "source": [
    "En primer lugar, miramos qué columnas tiene nuestro dataframe"
   ]
  },
  {
   "cell_type": "code",
   "execution_count": 132,
   "metadata": {},
   "outputs": [
    {
     "name": "stdout",
     "output_type": "stream",
     "text": [
      "Index(['date', 'rank', 'song', 'artist', 'last-week', 'peak-rank',\n",
      "       'weeks-on-board'],\n",
      "      dtype='object')\n"
     ]
    }
   ],
   "source": [
    "# creamos una variable 'columnas' que incorporará todas las columnas del df\n",
    "    # usamos el método \"columns\" incorporado en pandas para extraer las columnas\n",
    "columnas = df.columns\n",
    "\n",
    "# imprimimos esta variable para obtener las columnas del df\n",
    "print(columnas)"
   ]
  },
  {
   "cell_type": "markdown",
   "metadata": {},
   "source": [
    "Detectamos, a continuación, si hay valores nulos en nuestro dataframe con \"isnull\""
   ]
  },
  {
   "cell_type": "code",
   "execution_count": 133,
   "metadata": {},
   "outputs": [
    {
     "data": {
      "text/plain": [
       "date                  0\n",
       "rank                  0\n",
       "song                  0\n",
       "artist                0\n",
       "last-week         32312\n",
       "peak-rank             0\n",
       "weeks-on-board        0\n",
       "dtype: int64"
      ]
     },
     "execution_count": 133,
     "metadata": {},
     "output_type": "execute_result"
    }
   ],
   "source": [
    "# usamos el método 'isnull' junto con 'sum' para obtener el número total de valores nulos en cada columna\n",
    "df.isnull().sum()\n",
    "\n",
    "# observamos que la única columna con valores nulos es \"last-week\""
   ]
  },
  {
   "cell_type": "code",
   "execution_count": 134,
   "metadata": {},
   "outputs": [
    {
     "data": {
      "text/plain": [
       "date              0.000000\n",
       "rank              0.000000\n",
       "song              0.000000\n",
       "artist            0.000000\n",
       "last-week         9.788934\n",
       "peak-rank         0.000000\n",
       "weeks-on-board    0.000000\n",
       "dtype: float64"
      ]
     },
     "execution_count": 134,
     "metadata": {},
     "output_type": "execute_result"
    }
   ],
   "source": [
    "# para ver el porcentaje de números nulos dividimos entre la longitud total del df\n",
    "df.isnull().sum() / len(df) * 100\n",
    "\n",
    "# son nulos el 9,79% de los valores de la columna \"last-week\""
   ]
  },
  {
   "cell_type": "code",
   "execution_count": 135,
   "metadata": {},
   "outputs": [
    {
     "data": {
      "text/html": [
       "<div>\n",
       "<style scoped>\n",
       "    .dataframe tbody tr th:only-of-type {\n",
       "        vertical-align: middle;\n",
       "    }\n",
       "\n",
       "    .dataframe tbody tr th {\n",
       "        vertical-align: top;\n",
       "    }\n",
       "\n",
       "    .dataframe thead th {\n",
       "        text-align: right;\n",
       "    }\n",
       "</style>\n",
       "<table border=\"1\" class=\"dataframe\">\n",
       "  <thead>\n",
       "    <tr style=\"text-align: right;\">\n",
       "      <th></th>\n",
       "      <th>date</th>\n",
       "      <th>rank</th>\n",
       "      <th>song</th>\n",
       "      <th>artist</th>\n",
       "      <th>last-week</th>\n",
       "      <th>peak-rank</th>\n",
       "      <th>weeks-on-board</th>\n",
       "    </tr>\n",
       "  </thead>\n",
       "  <tbody>\n",
       "    <tr>\n",
       "      <th>0</th>\n",
       "      <td>2021-11-06</td>\n",
       "      <td>1</td>\n",
       "      <td>Easy On Me</td>\n",
       "      <td>Adele</td>\n",
       "      <td>1.0</td>\n",
       "      <td>1</td>\n",
       "      <td>3</td>\n",
       "    </tr>\n",
       "    <tr>\n",
       "      <th>1</th>\n",
       "      <td>2021-11-06</td>\n",
       "      <td>2</td>\n",
       "      <td>Stay</td>\n",
       "      <td>The Kid LAROI &amp; Justin Bieber</td>\n",
       "      <td>2.0</td>\n",
       "      <td>1</td>\n",
       "      <td>16</td>\n",
       "    </tr>\n",
       "    <tr>\n",
       "      <th>2</th>\n",
       "      <td>2021-11-06</td>\n",
       "      <td>3</td>\n",
       "      <td>Industry Baby</td>\n",
       "      <td>Lil Nas X &amp; Jack Harlow</td>\n",
       "      <td>3.0</td>\n",
       "      <td>1</td>\n",
       "      <td>14</td>\n",
       "    </tr>\n",
       "    <tr>\n",
       "      <th>3</th>\n",
       "      <td>2021-11-06</td>\n",
       "      <td>4</td>\n",
       "      <td>Fancy Like</td>\n",
       "      <td>Walker Hayes</td>\n",
       "      <td>4.0</td>\n",
       "      <td>3</td>\n",
       "      <td>19</td>\n",
       "    </tr>\n",
       "    <tr>\n",
       "      <th>4</th>\n",
       "      <td>2021-11-06</td>\n",
       "      <td>5</td>\n",
       "      <td>Bad Habits</td>\n",
       "      <td>Ed Sheeran</td>\n",
       "      <td>5.0</td>\n",
       "      <td>2</td>\n",
       "      <td>18</td>\n",
       "    </tr>\n",
       "    <tr>\n",
       "      <th>...</th>\n",
       "      <td>...</td>\n",
       "      <td>...</td>\n",
       "      <td>...</td>\n",
       "      <td>...</td>\n",
       "      <td>...</td>\n",
       "      <td>...</td>\n",
       "      <td>...</td>\n",
       "    </tr>\n",
       "    <tr>\n",
       "      <th>330082</th>\n",
       "      <td>1958-08-04</td>\n",
       "      <td>96</td>\n",
       "      <td>Over And Over</td>\n",
       "      <td>Thurston Harris</td>\n",
       "      <td>0.0</td>\n",
       "      <td>96</td>\n",
       "      <td>1</td>\n",
       "    </tr>\n",
       "    <tr>\n",
       "      <th>330083</th>\n",
       "      <td>1958-08-04</td>\n",
       "      <td>97</td>\n",
       "      <td>I Believe In You</td>\n",
       "      <td>Robert &amp; Johnny</td>\n",
       "      <td>0.0</td>\n",
       "      <td>97</td>\n",
       "      <td>1</td>\n",
       "    </tr>\n",
       "    <tr>\n",
       "      <th>330084</th>\n",
       "      <td>1958-08-04</td>\n",
       "      <td>98</td>\n",
       "      <td>Little Serenade</td>\n",
       "      <td>The Ames Brothers</td>\n",
       "      <td>0.0</td>\n",
       "      <td>98</td>\n",
       "      <td>1</td>\n",
       "    </tr>\n",
       "    <tr>\n",
       "      <th>330085</th>\n",
       "      <td>1958-08-04</td>\n",
       "      <td>99</td>\n",
       "      <td>I'll Get By (As Long As I Have You)</td>\n",
       "      <td>Billy Williams</td>\n",
       "      <td>0.0</td>\n",
       "      <td>99</td>\n",
       "      <td>1</td>\n",
       "    </tr>\n",
       "    <tr>\n",
       "      <th>330086</th>\n",
       "      <td>1958-08-04</td>\n",
       "      <td>100</td>\n",
       "      <td>Judy</td>\n",
       "      <td>Frankie Vaughan</td>\n",
       "      <td>0.0</td>\n",
       "      <td>100</td>\n",
       "      <td>1</td>\n",
       "    </tr>\n",
       "  </tbody>\n",
       "</table>\n",
       "<p>330087 rows × 7 columns</p>\n",
       "</div>"
      ],
      "text/plain": [
       "              date  rank                                 song  \\\n",
       "0       2021-11-06     1                           Easy On Me   \n",
       "1       2021-11-06     2                                 Stay   \n",
       "2       2021-11-06     3                        Industry Baby   \n",
       "3       2021-11-06     4                           Fancy Like   \n",
       "4       2021-11-06     5                           Bad Habits   \n",
       "...            ...   ...                                  ...   \n",
       "330082  1958-08-04    96                        Over And Over   \n",
       "330083  1958-08-04    97                     I Believe In You   \n",
       "330084  1958-08-04    98                      Little Serenade   \n",
       "330085  1958-08-04    99  I'll Get By (As Long As I Have You)   \n",
       "330086  1958-08-04   100                                 Judy   \n",
       "\n",
       "                               artist  last-week  peak-rank  weeks-on-board  \n",
       "0                               Adele        1.0          1               3  \n",
       "1       The Kid LAROI & Justin Bieber        2.0          1              16  \n",
       "2             Lil Nas X & Jack Harlow        3.0          1              14  \n",
       "3                        Walker Hayes        4.0          3              19  \n",
       "4                          Ed Sheeran        5.0          2              18  \n",
       "...                               ...        ...        ...             ...  \n",
       "330082                Thurston Harris        0.0         96               1  \n",
       "330083                Robert & Johnny        0.0         97               1  \n",
       "330084              The Ames Brothers        0.0         98               1  \n",
       "330085                 Billy Williams        0.0         99               1  \n",
       "330086                Frankie Vaughan        0.0        100               1  \n",
       "\n",
       "[330087 rows x 7 columns]"
      ]
     },
     "execution_count": 135,
     "metadata": {},
     "output_type": "execute_result"
    }
   ],
   "source": [
    "# rellenamos los valores nulos con ceros usando fillna().\n",
    "\n",
    "df = df.fillna(0)\n",
    "\n",
    "# pedimos que nos muestre el df para ver los cambios\n",
    "df"
   ]
  },
  {
   "cell_type": "markdown",
   "metadata": {},
   "source": [
    "### Imprima algunos valores de ejemplos"
   ]
  },
  {
   "cell_type": "code",
   "execution_count": 136,
   "metadata": {},
   "outputs": [
    {
     "name": "stdout",
     "output_type": "stream",
     "text": [
      "              date  rank                                            song  \\\n",
      "330077  1958-08-04    91  The Purple People Eater Meets The Witch Doctor   \n",
      "330078  1958-08-04    92                                        Bird Dog   \n",
      "330079  1958-08-04    93                             Are You Really Mine   \n",
      "330080  1958-08-04    94   She Was Only Seventeen (He Was One Year More)   \n",
      "330081  1958-08-04    95                                     Little Mary   \n",
      "330082  1958-08-04    96                                   Over And Over   \n",
      "330083  1958-08-04    97                                I Believe In You   \n",
      "330084  1958-08-04    98                                 Little Serenade   \n",
      "330085  1958-08-04    99             I'll Get By (As Long As I Have You)   \n",
      "330086  1958-08-04   100                                            Judy   \n",
      "\n",
      "                     artist  last-week  peak-rank  weeks-on-board  \n",
      "330077            Joe South        0.0         91               1  \n",
      "330078  The Everly Brothers        0.0         92               1  \n",
      "330079       Jimmie Rodgers        0.0         93               1  \n",
      "330080        Marty Robbins        0.0         94               1  \n",
      "330081          Fats Domino        0.0         95               1  \n",
      "330082      Thurston Harris        0.0         96               1  \n",
      "330083      Robert & Johnny        0.0         97               1  \n",
      "330084    The Ames Brothers        0.0         98               1  \n",
      "330085       Billy Williams        0.0         99               1  \n",
      "330086      Frankie Vaughan        0.0        100               1  \n"
     ]
    }
   ],
   "source": [
    "# Le pedimos que nos muestre las últimas 10 filas con \"tail\"\n",
    "\n",
    "last_10 = df.tail(10)\n",
    "print(last_10)"
   ]
  },
  {
   "cell_type": "code",
   "execution_count": 137,
   "metadata": {},
   "outputs": [
    {
     "name": "stdout",
     "output_type": "stream",
     "text": [
      "                                                  song               artist\n",
      "330077  The Purple People Eater Meets The Witch Doctor            Joe South\n",
      "330078                                        Bird Dog  The Everly Brothers\n",
      "330079                             Are You Really Mine       Jimmie Rodgers\n",
      "330080   She Was Only Seventeen (He Was One Year More)        Marty Robbins\n",
      "330081                                     Little Mary          Fats Domino\n",
      "330082                                   Over And Over      Thurston Harris\n",
      "330083                                I Believe In You      Robert & Johnny\n",
      "330084                                 Little Serenade    The Ames Brothers\n",
      "330085             I'll Get By (As Long As I Have You)       Billy Williams\n",
      "330086                                            Judy      Frankie Vaughan\n"
     ]
    }
   ],
   "source": [
    "# Le pedimos que nos muestre los mismos diez valores de la petición anterior\n",
    "    # pero solo las columnas \"song\" y \"artist\"\n",
    "\n",
    "last_10_song = df[['song', 'artist']].tail(10)\n",
    "print(last_10_song)"
   ]
  },
  {
   "cell_type": "markdown",
   "metadata": {},
   "source": [
    "### Calcule los top 30 artistas\n"
   ]
  },
  {
   "cell_type": "markdown",
   "metadata": {},
   "source": [
    "En primer lugar, vemos cuantos artistas únicos encontramos en nuestro df"
   ]
  },
  {
   "cell_type": "code",
   "execution_count": 138,
   "metadata": {},
   "outputs": [
    {
     "name": "stdout",
     "output_type": "stream",
     "text": [
      "De las 330087 entradas del dataframe, encontramos un total de 10205 artistas, de forma que alguno de ellos aparece más de una vez en la lista.\n"
     ]
    }
   ],
   "source": [
    "n_uniq_artist = df['artist'].nunique()\n",
    "print(f'De las {len(df)} entradas del dataframe, encontramos un total de {n_uniq_artist} artistas, de forma que alguno de ellos aparece más de una vez en la lista.')"
   ]
  },
  {
   "cell_type": "markdown",
   "metadata": {},
   "source": [
    "Tenemos diferentes formas de interpretar cuales son los mejores artistas según la información que tenemos, estudiaremos dos de ellas:\n",
    "* Considerando que los mejores artistas serán aquellos que más veces hayan aparecido en el top10 con alguna de sus canciones.\n",
    "* Considerando que los mejores artistas serán aquellos que más veces haya tenido una canción en el top1."
   ]
  },
  {
   "cell_type": "markdown",
   "metadata": {},
   "source": [
    "Usamos 'value_counts' y 'head' para encontrar **los 30 artistas que más veces aparezcan a lo largo de la lista**. De esta forma, un artista puede aparecer más veces repetido pero no haber alcanzado el top1 en ningún momento.\n",
    "\n",
    "Creamos una variable que nos indique, de manera ascendente, los 30 artistas que más aparecen."
   ]
  },
  {
   "cell_type": "code",
   "execution_count": 139,
   "metadata": {},
   "outputs": [
    {
     "data": {
      "text/plain": [
       "artist\n",
       "Taylor Swift             1023\n",
       "Elton John                889\n",
       "Madonna                   857\n",
       "Drake                     787\n",
       "Kenny Chesney             769\n",
       "Tim McGraw                731\n",
       "Keith Urban               673\n",
       "Stevie Wonder             659\n",
       "Rod Stewart               657\n",
       "Mariah Carey              621\n",
       "Michael Jackson           611\n",
       "Chicago                   607\n",
       "Rascal Flatts             604\n",
       "Billy Joel                588\n",
       "The Rolling Stones        585\n",
       "The Beatles               585\n",
       "Jason Aldean              572\n",
       "Aretha Franklin           569\n",
       "Rihanna                   566\n",
       "P!nk                      564\n",
       "Whitney Houston           561\n",
       "Brad Paisley              559\n",
       "Neil Diamond              553\n",
       "George Strait             553\n",
       "Luke Bryan                543\n",
       "Carrie Underwood          541\n",
       "Daryl Hall John Oates     540\n",
       "The Beach Boys            531\n",
       "Toby Keith                526\n",
       "Bee Gees                  516\n",
       "Name: count, dtype: int64"
      ]
     },
     "execution_count": 139,
     "metadata": {},
     "output_type": "execute_result"
    }
   ],
   "source": [
    "top30_artists = df['artist'].value_counts().head(30)\n",
    "top30_artists"
   ]
  },
  {
   "cell_type": "markdown",
   "metadata": {},
   "source": [
    "Esta vez **consideraremos a los mejores artistas como aquellos que más veces hayan estado en el top 1.** \n",
    "\n",
    "Usamos 'value_counts' y 'head' para encontrar los 30 mejores artistas pero, esta vez, definimos una condición que nos indique que la columna \"rank\" del df lleve el valor 1; y, a continuación creamos una variable que cuente cuantas veces se repite un artista con la condición que hemos establecido (estar en el top1)"
   ]
  },
  {
   "cell_type": "code",
   "execution_count": 140,
   "metadata": {},
   "outputs": [
    {
     "data": {
      "text/plain": [
       "artist\n",
       "Mariah Carey                                         65\n",
       "The Beatles                                          54\n",
       "Boyz II Men                                          34\n",
       "Madonna                                              32\n",
       "Whitney Houston                                      31\n",
       "Drake                                                31\n",
       "Michael Jackson                                      30\n",
       "The Black Eyed Peas                                  28\n",
       "Bee Gees                                             27\n",
       "Adele                                                26\n",
       "Elton John                                           23\n",
       "Usher                                                22\n",
       "Janet Jackson                                        21\n",
       "Elvis Presley With The Jordanaires                   21\n",
       "Taylor Swift                                         19\n",
       "Lil Nas X Featuring Billy Ray Cyrus                  19\n",
       "The Supremes                                         19\n",
       "TLC                                                  18\n",
       "Katy Perry                                           18\n",
       "Rod Stewart                                          17\n",
       "Ed Sheeran                                           17\n",
       "Olivia Newton-John                                   17\n",
       "Destiny's Child                                      17\n",
       "The Rolling Stones                                   17\n",
       "Bruno Mars                                           16\n",
       "Luis Fonsi & Daddy Yankee Featuring Justin Bieber    16\n",
       "Mariah Carey & Boyz II Men                           16\n",
       "The 4 Seasons                                        16\n",
       "Ariana Grande                                        16\n",
       "Rihanna                                              15\n",
       "Name: count, dtype: int64"
      ]
     },
     "execution_count": 140,
     "metadata": {},
     "output_type": "execute_result"
    }
   ],
   "source": [
    "top1 = df['rank'] == 1\n",
    "top30_artists_hist = df[top1]['artist'].value_counts().head(30)\n",
    "top30_artists_hist"
   ]
  },
  {
   "cell_type": "markdown",
   "metadata": {},
   "source": [
    "### Muestre el top 15 de canciones junto con su cantante"
   ]
  },
  {
   "cell_type": "markdown",
   "metadata": {},
   "source": [
    "De igual forma que en el paso anterior, en primer lugar calcularemos **cuales son las canciones que más veces aparecen a lo largo de la lista en alguno de los puestos**.\n",
    "Creamos una variable que nos indique, de manera ascendente, las 15 canciones que más aparecen y, además, que nos muestre también el nombre del artista."
   ]
  },
  {
   "cell_type": "code",
   "execution_count": 141,
   "metadata": {},
   "outputs": [
    {
     "data": {
      "text/plain": [
       "song                                 artist                                   \n",
       "Blinding Lights                      The Weeknd                                   90\n",
       "Radioactive                          Imagine Dragons                              87\n",
       "Sail                                 AWOLNATION                                   79\n",
       "I'm Yours                            Jason Mraz                                   76\n",
       "How Do I Live                        LeAnn Rimes                                  69\n",
       "Counting Stars                       OneRepublic                                  68\n",
       "Party Rock Anthem                    LMFAO Featuring Lauren Bennett & GoonRock    68\n",
       "Rolling In The Deep                  Adele                                        65\n",
       "Foolish Games/You Were Meant For Me  Jewel                                        65\n",
       "Before He Cheats                     Carrie Underwood                             64\n",
       "You And Me                           Lifehouse                                    62\n",
       "I Hope                               Gabby Barrett Featuring Charlie Puth         62\n",
       "Ho Hey                               The Lumineers                                62\n",
       "Circles                              Post Malone                                  61\n",
       "Demons                               Imagine Dragons                              61\n",
       "Name: count, dtype: int64"
      ]
     },
     "execution_count": 141,
     "metadata": {},
     "output_type": "execute_result"
    }
   ],
   "source": [
    "top15_songs = df[['song','artist']].value_counts().head(15)\n",
    "top15_songs"
   ]
  },
  {
   "cell_type": "markdown",
   "metadata": {},
   "source": [
    "Ahora, **entenderemos que las mejores canciones serán aquellas que más veces hayan estado en el top 1.**\n",
    "\n",
    "Usamos 'value_counts' y 'head' para encontrar las 15 mejores canciones: \n",
    "usando la condición definida en el paso anterior, creamos una variable que cuente cuantas veces se repite una canción con dicha condición (estar en el top1)."
   ]
  },
  {
   "cell_type": "code",
   "execution_count": 142,
   "metadata": {},
   "outputs": [
    {
     "data": {
      "text/plain": [
       "song                                                              artist                                           \n",
       "Old Town Road                                                     Lil Nas X Featuring Billy Ray Cyrus                  19\n",
       "One Sweet Day                                                     Mariah Carey & Boyz II Men                           16\n",
       "Despacito                                                         Luis Fonsi & Daddy Yankee Featuring Justin Bieber    16\n",
       "We Belong Together                                                Mariah Carey                                         14\n",
       "I Will Always Love You                                            Whitney Houston                                      14\n",
       "Uptown Funk!                                                      Mark Ronson Featuring Bruno Mars                     14\n",
       "I'll Make Love To You                                             Boyz II Men                                          14\n",
       "Candle In The Wind 1997/Something About The Way You Look Tonight  Elton John                                           14\n",
       "I Gotta Feeling                                                   The Black Eyed Peas                                  14\n",
       "Macarena (Bayside Boys Mix)                                       Los Del Rio                                          14\n",
       "End Of The Road (From \"Boomerang\")                                Boyz II Men                                          13\n",
       "The Boy Is Mine                                                   Brandy & Monica                                      13\n",
       "See You Again                                                     Wiz Khalifa Featuring Charlie Puth                   12\n",
       "Blurred Lines                                                     Robin Thicke Featuring T.I. + Pharrell               12\n",
       "Shape Of You                                                      Ed Sheeran                                           12\n",
       "Name: count, dtype: int64"
      ]
     },
     "execution_count": 142,
     "metadata": {},
     "output_type": "execute_result"
    }
   ],
   "source": [
    "top15_songs_hist = df[top1][['song','artist']].value_counts().head(15)\n",
    "top15_songs_hist"
   ]
  },
  {
   "cell_type": "markdown",
   "metadata": {},
   "source": [
    "### Muestre el top 10 de los artistas, canciones y su mejor posición"
   ]
  },
  {
   "cell_type": "markdown",
   "metadata": {},
   "source": [
    "Para este ejercicio, **los mejores artistas serán aquellos que más veces hayan aparecido en el top10 con alguna de sus canciones**.\n",
    "\n",
    "En este caso, usamos 'value_counts' y 'head' para encontrar los 10 mejores artistas sin imponerle ninguna condición, de forma que nos devolverá aquellos que más veces encuentre. Le pedimos que nos indique también cual es la mejor posición que ha alcanzado: veremos que en el caso de Jason Mraz con la canción I'm Yours, se repite más veces que otros artistas pero el puesto máximo alcanzado es el top6.\n",
    "\n",
    "Creamos una variable que cuente cuantas veces se repite un artista y le pedimos las columnas que nos interesan: artista, nombre de la canción y la mejor posición que ha alcanzado."
   ]
  },
  {
   "cell_type": "code",
   "execution_count": 143,
   "metadata": {},
   "outputs": [
    {
     "data": {
      "text/plain": [
       "artist                                     song                     peak-rank\n",
       "The Weeknd                                 Blinding Lights          1            74\n",
       "Ed Sheeran                                 Shape Of You             1            58\n",
       "Jason Mraz                                 I'm Yours                6            56\n",
       "LMFAO Featuring Lauren Bennett & GoonRock  Party Rock Anthem        1            54\n",
       "The Black Eyed Peas                        I Gotta Feeling          1            54\n",
       "Justin Timberlake                          Can't Stop The Feeling!  1            52\n",
       "Taylor Swift                               Shake It Off             1            50\n",
       "The Chainsmokers Featuring Halsey          Closer                   1            50\n",
       "Post Malone                                Circles                  1            50\n",
       "Mark Ronson Featuring Bruno Mars           Uptown Funk!             1            49\n",
       "Name: count, dtype: int64"
      ]
     },
     "execution_count": 143,
     "metadata": {},
     "output_type": "execute_result"
    }
   ],
   "source": [
    "top10_artist = df[['artist','song','peak-rank']].value_counts().head(10)\n",
    "top10_artist"
   ]
  },
  {
   "cell_type": "markdown",
   "metadata": {},
   "source": [
    "### Artistas más reproducidos por semanas"
   ]
  },
  {
   "cell_type": "markdown",
   "metadata": {},
   "source": [
    "Para encontrar a los artistas más reproducidos por semanas, en primer lugar transformaremos la columna date con formato aaaa-mm-dd en un datetime, de forma que podamos crear posteriormente una nueva columna agrupando los días por semanas."
   ]
  },
  {
   "cell_type": "code",
   "execution_count": 144,
   "metadata": {},
   "outputs": [],
   "source": [
    "df['date'] = pd.to_datetime(df['date'])"
   ]
  },
  {
   "cell_type": "markdown",
   "metadata": {},
   "source": [
    "Creamos dos nuevas columnas en el df: la columna \"week\" para que nos indique a qué semana pertenece cada uno de los días de la columna 'date', y la columna \"week_count\" que nos indica cuantas veces aparece cada artista en dicha semana."
   ]
  },
  {
   "cell_type": "code",
   "execution_count": 145,
   "metadata": {},
   "outputs": [],
   "source": [
    "df['week'] = df['date'].dt.to_period('W')\n",
    "df['artist_count_per_week'] = df.groupby(['week', 'artist'])['song'].transform('count')"
   ]
  },
  {
   "cell_type": "markdown",
   "metadata": {},
   "source": [
    "Con estas dos nuevas columnas, podemos saber cual es el artista que más veces aparece en el ranking en cada semana. Utilizamos el método \"sort_values\" para ordenar los datos basandonos en la columna 'week_count' que indica cuantas veces aparece cada artista en cada semana, ordenándolo de forma descendiente dentro de cada una de las semanas (los que aparecen más veces nos los mostrará primero).\n",
    "\n",
    "Asimismo, le indicamos que, agrupando por semanas, queremos ver únicamente el primero de cada una de ellas."
   ]
  },
  {
   "cell_type": "code",
   "execution_count": 147,
   "metadata": {},
   "outputs": [
    {
     "data": {
      "text/html": [
       "<div>\n",
       "<style scoped>\n",
       "    .dataframe tbody tr th:only-of-type {\n",
       "        vertical-align: middle;\n",
       "    }\n",
       "\n",
       "    .dataframe tbody tr th {\n",
       "        vertical-align: top;\n",
       "    }\n",
       "\n",
       "    .dataframe thead th {\n",
       "        text-align: right;\n",
       "    }\n",
       "</style>\n",
       "<table border=\"1\" class=\"dataframe\">\n",
       "  <thead>\n",
       "    <tr style=\"text-align: right;\">\n",
       "      <th></th>\n",
       "      <th>date</th>\n",
       "      <th>rank</th>\n",
       "      <th>song</th>\n",
       "      <th>artist</th>\n",
       "      <th>last-week</th>\n",
       "      <th>peak-rank</th>\n",
       "      <th>weeks-on-board</th>\n",
       "      <th>week</th>\n",
       "      <th>artist_count_per_week</th>\n",
       "    </tr>\n",
       "  </thead>\n",
       "  <tbody>\n",
       "    <tr>\n",
       "      <th>8</th>\n",
       "      <td>2021-11-06</td>\n",
       "      <td>9</td>\n",
       "      <td>Need To Know</td>\n",
       "      <td>Doja Cat</td>\n",
       "      <td>11.0</td>\n",
       "      <td>9</td>\n",
       "      <td>20</td>\n",
       "      <td>2021-11-01/2021-11-07</td>\n",
       "      <td>4</td>\n",
       "    </tr>\n",
       "    <tr>\n",
       "      <th>106</th>\n",
       "      <td>2021-10-30</td>\n",
       "      <td>7</td>\n",
       "      <td>Good 4 U</td>\n",
       "      <td>Olivia Rodrigo</td>\n",
       "      <td>6.0</td>\n",
       "      <td>1</td>\n",
       "      <td>23</td>\n",
       "      <td>2021-10-25/2021-10-31</td>\n",
       "      <td>3</td>\n",
       "    </tr>\n",
       "    <tr>\n",
       "      <th>210</th>\n",
       "      <td>2021-10-23</td>\n",
       "      <td>11</td>\n",
       "      <td>Need To Know</td>\n",
       "      <td>Doja Cat</td>\n",
       "      <td>13.0</td>\n",
       "      <td>11</td>\n",
       "      <td>18</td>\n",
       "      <td>2021-10-18/2021-10-24</td>\n",
       "      <td>4</td>\n",
       "    </tr>\n",
       "    <tr>\n",
       "      <th>335</th>\n",
       "      <td>2021-10-16</td>\n",
       "      <td>36</td>\n",
       "      <td>Intro (Hate On Me)</td>\n",
       "      <td>Meek Mill</td>\n",
       "      <td>0.0</td>\n",
       "      <td>36</td>\n",
       "      <td>1</td>\n",
       "      <td>2021-10-11/2021-10-17</td>\n",
       "      <td>5</td>\n",
       "    </tr>\n",
       "    <tr>\n",
       "      <th>427</th>\n",
       "      <td>2021-10-09</td>\n",
       "      <td>28</td>\n",
       "      <td>Bad Morning</td>\n",
       "      <td>YoungBoy Never Broke Again</td>\n",
       "      <td>0.0</td>\n",
       "      <td>28</td>\n",
       "      <td>1</td>\n",
       "      <td>2021-10-04/2021-10-10</td>\n",
       "      <td>15</td>\n",
       "    </tr>\n",
       "    <tr>\n",
       "      <th>...</th>\n",
       "      <td>...</td>\n",
       "      <td>...</td>\n",
       "      <td>...</td>\n",
       "      <td>...</td>\n",
       "      <td>...</td>\n",
       "      <td>...</td>\n",
       "      <td>...</td>\n",
       "      <td>...</td>\n",
       "      <td>...</td>\n",
       "    </tr>\n",
       "    <tr>\n",
       "      <th>329589</th>\n",
       "      <td>1958-09-01</td>\n",
       "      <td>3</td>\n",
       "      <td>Bird Dog</td>\n",
       "      <td>The Everly Brothers</td>\n",
       "      <td>3.0</td>\n",
       "      <td>3</td>\n",
       "      <td>5</td>\n",
       "      <td>1958-09-01/1958-09-07</td>\n",
       "      <td>2</td>\n",
       "    </tr>\n",
       "    <tr>\n",
       "      <th>329705</th>\n",
       "      <td>1958-08-25</td>\n",
       "      <td>19</td>\n",
       "      <td>Volare (Nel Blu Dipinto Di Blu)</td>\n",
       "      <td>Dean Martin</td>\n",
       "      <td>20.0</td>\n",
       "      <td>19</td>\n",
       "      <td>4</td>\n",
       "      <td>1958-08-25/1958-08-31</td>\n",
       "      <td>3</td>\n",
       "    </tr>\n",
       "    <tr>\n",
       "      <th>329806</th>\n",
       "      <td>1958-08-18</td>\n",
       "      <td>20</td>\n",
       "      <td>Volare (Nel Blu Dipinto Di Blu)</td>\n",
       "      <td>Dean Martin</td>\n",
       "      <td>37.0</td>\n",
       "      <td>20</td>\n",
       "      <td>3</td>\n",
       "      <td>1958-08-18/1958-08-24</td>\n",
       "      <td>3</td>\n",
       "    </tr>\n",
       "    <tr>\n",
       "      <th>329912</th>\n",
       "      <td>1958-08-11</td>\n",
       "      <td>26</td>\n",
       "      <td>Are You Really Mine</td>\n",
       "      <td>Jimmie Rodgers</td>\n",
       "      <td>93.0</td>\n",
       "      <td>26</td>\n",
       "      <td>2</td>\n",
       "      <td>1958-08-11/1958-08-17</td>\n",
       "      <td>3</td>\n",
       "    </tr>\n",
       "    <tr>\n",
       "      <th>330016</th>\n",
       "      <td>1958-08-04</td>\n",
       "      <td>30</td>\n",
       "      <td>Angel Baby</td>\n",
       "      <td>Dean Martin</td>\n",
       "      <td>0.0</td>\n",
       "      <td>30</td>\n",
       "      <td>1</td>\n",
       "      <td>1958-08-04/1958-08-10</td>\n",
       "      <td>3</td>\n",
       "    </tr>\n",
       "  </tbody>\n",
       "</table>\n",
       "<p>3301 rows × 9 columns</p>\n",
       "</div>"
      ],
      "text/plain": [
       "             date  rank                             song  \\\n",
       "8      2021-11-06     9                     Need To Know   \n",
       "106    2021-10-30     7                         Good 4 U   \n",
       "210    2021-10-23    11                     Need To Know   \n",
       "335    2021-10-16    36               Intro (Hate On Me)   \n",
       "427    2021-10-09    28                      Bad Morning   \n",
       "...           ...   ...                              ...   \n",
       "329589 1958-09-01     3                         Bird Dog   \n",
       "329705 1958-08-25    19  Volare (Nel Blu Dipinto Di Blu)   \n",
       "329806 1958-08-18    20  Volare (Nel Blu Dipinto Di Blu)   \n",
       "329912 1958-08-11    26              Are You Really Mine   \n",
       "330016 1958-08-04    30                       Angel Baby   \n",
       "\n",
       "                            artist  last-week  peak-rank  weeks-on-board  \\\n",
       "8                         Doja Cat       11.0          9              20   \n",
       "106                 Olivia Rodrigo        6.0          1              23   \n",
       "210                       Doja Cat       13.0         11              18   \n",
       "335                      Meek Mill        0.0         36               1   \n",
       "427     YoungBoy Never Broke Again        0.0         28               1   \n",
       "...                            ...        ...        ...             ...   \n",
       "329589         The Everly Brothers        3.0          3               5   \n",
       "329705                 Dean Martin       20.0         19               4   \n",
       "329806                 Dean Martin       37.0         20               3   \n",
       "329912              Jimmie Rodgers       93.0         26               2   \n",
       "330016                 Dean Martin        0.0         30               1   \n",
       "\n",
       "                         week  artist_count_per_week  \n",
       "8       2021-11-01/2021-11-07                      4  \n",
       "106     2021-10-25/2021-10-31                      3  \n",
       "210     2021-10-18/2021-10-24                      4  \n",
       "335     2021-10-11/2021-10-17                      5  \n",
       "427     2021-10-04/2021-10-10                     15  \n",
       "...                       ...                    ...  \n",
       "329589  1958-09-01/1958-09-07                      2  \n",
       "329705  1958-08-25/1958-08-31                      3  \n",
       "329806  1958-08-18/1958-08-24                      3  \n",
       "329912  1958-08-11/1958-08-17                      3  \n",
       "330016  1958-08-04/1958-08-10                      3  \n",
       "\n",
       "[3301 rows x 9 columns]"
      ]
     },
     "execution_count": 147,
     "metadata": {},
     "output_type": "execute_result"
    }
   ],
   "source": [
    "top_artists = df.sort_values(by=['week','artist_count_per_week'], ascending=[False,False]).groupby('week').head(1)\n",
    "top_artists"
   ]
  },
  {
   "cell_type": "markdown",
   "metadata": {},
   "source": [
    "A continuación, definimos la columna de la fecha como índice con 'set_index'."
   ]
  },
  {
   "cell_type": "code",
   "execution_count": 148,
   "metadata": {},
   "outputs": [
    {
     "data": {
      "text/html": [
       "<div>\n",
       "<style scoped>\n",
       "    .dataframe tbody tr th:only-of-type {\n",
       "        vertical-align: middle;\n",
       "    }\n",
       "\n",
       "    .dataframe tbody tr th {\n",
       "        vertical-align: top;\n",
       "    }\n",
       "\n",
       "    .dataframe thead th {\n",
       "        text-align: right;\n",
       "    }\n",
       "</style>\n",
       "<table border=\"1\" class=\"dataframe\">\n",
       "  <thead>\n",
       "    <tr style=\"text-align: right;\">\n",
       "      <th></th>\n",
       "      <th>rank</th>\n",
       "      <th>song</th>\n",
       "      <th>artist</th>\n",
       "      <th>last-week</th>\n",
       "      <th>peak-rank</th>\n",
       "      <th>weeks-on-board</th>\n",
       "      <th>week</th>\n",
       "      <th>artist_count_per_week</th>\n",
       "    </tr>\n",
       "    <tr>\n",
       "      <th>date</th>\n",
       "      <th></th>\n",
       "      <th></th>\n",
       "      <th></th>\n",
       "      <th></th>\n",
       "      <th></th>\n",
       "      <th></th>\n",
       "      <th></th>\n",
       "      <th></th>\n",
       "    </tr>\n",
       "  </thead>\n",
       "  <tbody>\n",
       "    <tr>\n",
       "      <th>2021-11-06</th>\n",
       "      <td>9</td>\n",
       "      <td>Need To Know</td>\n",
       "      <td>Doja Cat</td>\n",
       "      <td>11.0</td>\n",
       "      <td>9</td>\n",
       "      <td>20</td>\n",
       "      <td>2021-11-01/2021-11-07</td>\n",
       "      <td>4</td>\n",
       "    </tr>\n",
       "    <tr>\n",
       "      <th>2021-10-30</th>\n",
       "      <td>7</td>\n",
       "      <td>Good 4 U</td>\n",
       "      <td>Olivia Rodrigo</td>\n",
       "      <td>6.0</td>\n",
       "      <td>1</td>\n",
       "      <td>23</td>\n",
       "      <td>2021-10-25/2021-10-31</td>\n",
       "      <td>3</td>\n",
       "    </tr>\n",
       "    <tr>\n",
       "      <th>2021-10-23</th>\n",
       "      <td>11</td>\n",
       "      <td>Need To Know</td>\n",
       "      <td>Doja Cat</td>\n",
       "      <td>13.0</td>\n",
       "      <td>11</td>\n",
       "      <td>18</td>\n",
       "      <td>2021-10-18/2021-10-24</td>\n",
       "      <td>4</td>\n",
       "    </tr>\n",
       "    <tr>\n",
       "      <th>2021-10-16</th>\n",
       "      <td>36</td>\n",
       "      <td>Intro (Hate On Me)</td>\n",
       "      <td>Meek Mill</td>\n",
       "      <td>0.0</td>\n",
       "      <td>36</td>\n",
       "      <td>1</td>\n",
       "      <td>2021-10-11/2021-10-17</td>\n",
       "      <td>5</td>\n",
       "    </tr>\n",
       "    <tr>\n",
       "      <th>2021-10-09</th>\n",
       "      <td>28</td>\n",
       "      <td>Bad Morning</td>\n",
       "      <td>YoungBoy Never Broke Again</td>\n",
       "      <td>0.0</td>\n",
       "      <td>28</td>\n",
       "      <td>1</td>\n",
       "      <td>2021-10-04/2021-10-10</td>\n",
       "      <td>15</td>\n",
       "    </tr>\n",
       "    <tr>\n",
       "      <th>...</th>\n",
       "      <td>...</td>\n",
       "      <td>...</td>\n",
       "      <td>...</td>\n",
       "      <td>...</td>\n",
       "      <td>...</td>\n",
       "      <td>...</td>\n",
       "      <td>...</td>\n",
       "      <td>...</td>\n",
       "    </tr>\n",
       "    <tr>\n",
       "      <th>1958-09-01</th>\n",
       "      <td>3</td>\n",
       "      <td>Bird Dog</td>\n",
       "      <td>The Everly Brothers</td>\n",
       "      <td>3.0</td>\n",
       "      <td>3</td>\n",
       "      <td>5</td>\n",
       "      <td>1958-09-01/1958-09-07</td>\n",
       "      <td>2</td>\n",
       "    </tr>\n",
       "    <tr>\n",
       "      <th>1958-08-25</th>\n",
       "      <td>19</td>\n",
       "      <td>Volare (Nel Blu Dipinto Di Blu)</td>\n",
       "      <td>Dean Martin</td>\n",
       "      <td>20.0</td>\n",
       "      <td>19</td>\n",
       "      <td>4</td>\n",
       "      <td>1958-08-25/1958-08-31</td>\n",
       "      <td>3</td>\n",
       "    </tr>\n",
       "    <tr>\n",
       "      <th>1958-08-18</th>\n",
       "      <td>20</td>\n",
       "      <td>Volare (Nel Blu Dipinto Di Blu)</td>\n",
       "      <td>Dean Martin</td>\n",
       "      <td>37.0</td>\n",
       "      <td>20</td>\n",
       "      <td>3</td>\n",
       "      <td>1958-08-18/1958-08-24</td>\n",
       "      <td>3</td>\n",
       "    </tr>\n",
       "    <tr>\n",
       "      <th>1958-08-11</th>\n",
       "      <td>26</td>\n",
       "      <td>Are You Really Mine</td>\n",
       "      <td>Jimmie Rodgers</td>\n",
       "      <td>93.0</td>\n",
       "      <td>26</td>\n",
       "      <td>2</td>\n",
       "      <td>1958-08-11/1958-08-17</td>\n",
       "      <td>3</td>\n",
       "    </tr>\n",
       "    <tr>\n",
       "      <th>1958-08-04</th>\n",
       "      <td>30</td>\n",
       "      <td>Angel Baby</td>\n",
       "      <td>Dean Martin</td>\n",
       "      <td>0.0</td>\n",
       "      <td>30</td>\n",
       "      <td>1</td>\n",
       "      <td>1958-08-04/1958-08-10</td>\n",
       "      <td>3</td>\n",
       "    </tr>\n",
       "  </tbody>\n",
       "</table>\n",
       "<p>3301 rows × 8 columns</p>\n",
       "</div>"
      ],
      "text/plain": [
       "            rank                             song                      artist  \\\n",
       "date                                                                            \n",
       "2021-11-06     9                     Need To Know                    Doja Cat   \n",
       "2021-10-30     7                         Good 4 U              Olivia Rodrigo   \n",
       "2021-10-23    11                     Need To Know                    Doja Cat   \n",
       "2021-10-16    36               Intro (Hate On Me)                   Meek Mill   \n",
       "2021-10-09    28                      Bad Morning  YoungBoy Never Broke Again   \n",
       "...          ...                              ...                         ...   \n",
       "1958-09-01     3                         Bird Dog         The Everly Brothers   \n",
       "1958-08-25    19  Volare (Nel Blu Dipinto Di Blu)                 Dean Martin   \n",
       "1958-08-18    20  Volare (Nel Blu Dipinto Di Blu)                 Dean Martin   \n",
       "1958-08-11    26              Are You Really Mine              Jimmie Rodgers   \n",
       "1958-08-04    30                       Angel Baby                 Dean Martin   \n",
       "\n",
       "            last-week  peak-rank  weeks-on-board                   week  \\\n",
       "date                                                                      \n",
       "2021-11-06       11.0          9              20  2021-11-01/2021-11-07   \n",
       "2021-10-30        6.0          1              23  2021-10-25/2021-10-31   \n",
       "2021-10-23       13.0         11              18  2021-10-18/2021-10-24   \n",
       "2021-10-16        0.0         36               1  2021-10-11/2021-10-17   \n",
       "2021-10-09        0.0         28               1  2021-10-04/2021-10-10   \n",
       "...               ...        ...             ...                    ...   \n",
       "1958-09-01        3.0          3               5  1958-09-01/1958-09-07   \n",
       "1958-08-25       20.0         19               4  1958-08-25/1958-08-31   \n",
       "1958-08-18       37.0         20               3  1958-08-18/1958-08-24   \n",
       "1958-08-11       93.0         26               2  1958-08-11/1958-08-17   \n",
       "1958-08-04        0.0         30               1  1958-08-04/1958-08-10   \n",
       "\n",
       "            artist_count_per_week  \n",
       "date                               \n",
       "2021-11-06                      4  \n",
       "2021-10-30                      3  \n",
       "2021-10-23                      4  \n",
       "2021-10-16                      5  \n",
       "2021-10-09                     15  \n",
       "...                           ...  \n",
       "1958-09-01                      2  \n",
       "1958-08-25                      3  \n",
       "1958-08-18                      3  \n",
       "1958-08-11                      3  \n",
       "1958-08-04                      3  \n",
       "\n",
       "[3301 rows x 8 columns]"
      ]
     },
     "execution_count": 148,
     "metadata": {},
     "output_type": "execute_result"
    }
   ],
   "source": [
    "top_artists.set_index('date', inplace = True)\n",
    "top_artists"
   ]
  },
  {
   "cell_type": "markdown",
   "metadata": {},
   "source": [
    "Ahora, sabemos que los artistas que más veces han entrado en el top10 cada semana son:"
   ]
  },
  {
   "cell_type": "code",
   "execution_count": 149,
   "metadata": {},
   "outputs": [
    {
     "data": {
      "text/plain": [
       "date\n",
       "2021-11-06                      Doja Cat\n",
       "2021-10-30                Olivia Rodrigo\n",
       "2021-10-23                      Doja Cat\n",
       "2021-10-16                     Meek Mill\n",
       "2021-10-09    YoungBoy Never Broke Again\n",
       "                         ...            \n",
       "1958-09-01           The Everly Brothers\n",
       "1958-08-25                   Dean Martin\n",
       "1958-08-18                   Dean Martin\n",
       "1958-08-11                Jimmie Rodgers\n",
       "1958-08-04                   Dean Martin\n",
       "Name: artist, Length: 3301, dtype: object"
      ]
     },
     "execution_count": 149,
     "metadata": {},
     "output_type": "execute_result"
    }
   ],
   "source": [
    "top_artists['artist']"
   ]
  },
  {
   "cell_type": "markdown",
   "metadata": {},
   "source": [
    "### Encuentre los más y menos escuchados según un intervalo de tiempo"
   ]
  },
  {
   "cell_type": "markdown",
   "metadata": {},
   "source": [
    "* Puede usar resample(frecuencia)[columna].\n",
    "* Puede usar .agg([columnas]) para agregar los datos\n",
    "\n"
   ]
  },
  {
   "cell_type": "code",
   "execution_count": 154,
   "metadata": {},
   "outputs": [],
   "source": [
    "# en primer lugar, definimos la columna \"date\" como índice, paso necesario para usar \"resample\"\n",
    "\n",
    "df.set_index('date', inplace = True)"
   ]
  },
  {
   "cell_type": "code",
   "execution_count": 162,
   "metadata": {},
   "outputs": [
    {
     "data": {
      "text/html": [
       "<div>\n",
       "<style scoped>\n",
       "    .dataframe tbody tr th:only-of-type {\n",
       "        vertical-align: middle;\n",
       "    }\n",
       "\n",
       "    .dataframe tbody tr th {\n",
       "        vertical-align: top;\n",
       "    }\n",
       "\n",
       "    .dataframe thead th {\n",
       "        text-align: right;\n",
       "    }\n",
       "</style>\n",
       "<table border=\"1\" class=\"dataframe\">\n",
       "  <thead>\n",
       "    <tr style=\"text-align: right;\">\n",
       "      <th></th>\n",
       "      <th>artistas más escuchados</th>\n",
       "      <th>artistas menos escuchados</th>\n",
       "    </tr>\n",
       "    <tr>\n",
       "      <th>date</th>\n",
       "      <th></th>\n",
       "      <th></th>\n",
       "    </tr>\n",
       "  </thead>\n",
       "  <tbody>\n",
       "    <tr>\n",
       "      <th>1958-08-31</th>\n",
       "      <td>Warren Storm</td>\n",
       "      <td>Betty Madigan</td>\n",
       "    </tr>\n",
       "    <tr>\n",
       "      <th>1958-09-30</th>\n",
       "      <td>Warren Storm</td>\n",
       "      <td>Andy Williams</td>\n",
       "    </tr>\n",
       "    <tr>\n",
       "      <th>1958-10-31</th>\n",
       "      <td>Tony Bennett</td>\n",
       "      <td>Andy Rose</td>\n",
       "    </tr>\n",
       "    <tr>\n",
       "      <th>1958-11-30</th>\n",
       "      <td>Tony Bennett</td>\n",
       "      <td>Andy Rose</td>\n",
       "    </tr>\n",
       "    <tr>\n",
       "      <th>1958-12-31</th>\n",
       "      <td>Wade Flemons and the Newcomers</td>\n",
       "      <td>Andy Williams</td>\n",
       "    </tr>\n",
       "    <tr>\n",
       "      <th>...</th>\n",
       "      <td>...</td>\n",
       "      <td>...</td>\n",
       "    </tr>\n",
       "    <tr>\n",
       "      <th>2021-07-31</th>\n",
       "      <td>Young Thug &amp; Gunna</td>\n",
       "      <td>24kGoldn Featuring iann dior</td>\n",
       "    </tr>\n",
       "    <tr>\n",
       "      <th>2021-08-31</th>\n",
       "      <td>Yung Bleu, Chris Brown &amp; 2 Chainz</td>\n",
       "      <td>24kGoldn Featuring iann dior</td>\n",
       "    </tr>\n",
       "    <tr>\n",
       "      <th>2021-09-30</th>\n",
       "      <td>Yung Bleu, Chris Brown &amp; 2 Chainz</td>\n",
       "      <td>Aventura x Bad Bunny</td>\n",
       "    </tr>\n",
       "    <tr>\n",
       "      <th>2021-10-31</th>\n",
       "      <td>Zac Brown Band</td>\n",
       "      <td>42 Dugg Featuring Future</td>\n",
       "    </tr>\n",
       "    <tr>\n",
       "      <th>2021-11-30</th>\n",
       "      <td>Zac Brown Band</td>\n",
       "      <td>42 Dugg Featuring Future</td>\n",
       "    </tr>\n",
       "  </tbody>\n",
       "</table>\n",
       "<p>760 rows × 2 columns</p>\n",
       "</div>"
      ],
      "text/plain": [
       "                      artistas más escuchados     artistas menos escuchados\n",
       "date                                                                       \n",
       "1958-08-31                       Warren Storm                 Betty Madigan\n",
       "1958-09-30                       Warren Storm                 Andy Williams\n",
       "1958-10-31                       Tony Bennett                     Andy Rose\n",
       "1958-11-30                       Tony Bennett                     Andy Rose\n",
       "1958-12-31     Wade Flemons and the Newcomers                 Andy Williams\n",
       "...                                       ...                           ...\n",
       "2021-07-31                 Young Thug & Gunna  24kGoldn Featuring iann dior\n",
       "2021-08-31  Yung Bleu, Chris Brown & 2 Chainz  24kGoldn Featuring iann dior\n",
       "2021-09-30  Yung Bleu, Chris Brown & 2 Chainz          Aventura x Bad Bunny\n",
       "2021-10-31                     Zac Brown Band      42 Dugg Featuring Future\n",
       "2021-11-30                     Zac Brown Band      42 Dugg Featuring Future\n",
       "\n",
       "[760 rows x 2 columns]"
      ]
     },
     "execution_count": 162,
     "metadata": {},
     "output_type": "execute_result"
    }
   ],
   "source": [
    "# definimos un intervalo de tiempo: en este caso, será anual.\n",
    "intervalo_tiempo = 'M'\n",
    "\n",
    "# creamos una variable que nos devuelva a los artistas más y menos escuchados\n",
    "             # usamos \"resample\" para ajustar los datos al intervalo de tiempo definido\n",
    "                    # agregamos los datos con los métodos de la propia librería \"min\" y \"max\"\n",
    "datos = df.resample(intervalo_tiempo)['artist'].agg(['max', 'min'])      \n",
    "\n",
    "# renombramos las columnas\n",
    "datos = datos.rename(columns={'max': 'artistas más escuchados', 'min': 'artistas menos escuchados'})\n",
    "\n",
    "# llamamos a la variable para mostrar la tabla\n",
    "datos\n"
   ]
  }
 ],
 "metadata": {
  "kernelspec": {
   "display_name": "mi_entorno",
   "language": "python",
   "name": "python3"
  },
  "language_info": {
   "codemirror_mode": {
    "name": "ipython",
    "version": 3
   },
   "file_extension": ".py",
   "mimetype": "text/x-python",
   "name": "python",
   "nbconvert_exporter": "python",
   "pygments_lexer": "ipython3",
   "version": "3.10.10"
  }
 },
 "nbformat": 4,
 "nbformat_minor": 2
}
